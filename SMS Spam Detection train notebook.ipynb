{
 "cells": [
  {
   "cell_type": "code",
   "execution_count": 1,
   "metadata": {},
   "outputs": [
    {
     "data": {
      "text/plain": [
       "'/Users/pavangodthi/Documents/lSMS-spam-detection-/SMS Spam Detection'"
      ]
     },
     "execution_count": 1,
     "metadata": {},
     "output_type": "execute_result"
    }
   ],
   "source": [
    "import os\n",
    "os.getcwd() #To get the current working directory"
   ]
  },
  {
   "cell_type": "code",
   "execution_count": 3,
   "metadata": {},
   "outputs": [],
   "source": [
    "import numpy as np\n",
    "import matplotlib.pyplot as plt\n",
    "import pandas as pd"
   ]
  },
  {
   "cell_type": "markdown",
   "metadata": {},
   "source": [
    "# Importing the dataset "
   ]
  },
  {
   "cell_type": "code",
   "execution_count": 5,
   "metadata": {},
   "outputs": [
    {
     "data": {
      "text/html": [
       "<div>\n",
       "<style scoped>\n",
       "    .dataframe tbody tr th:only-of-type {\n",
       "        vertical-align: middle;\n",
       "    }\n",
       "\n",
       "    .dataframe tbody tr th {\n",
       "        vertical-align: top;\n",
       "    }\n",
       "\n",
       "    .dataframe thead th {\n",
       "        text-align: right;\n",
       "    }\n",
       "</style>\n",
       "<table border=\"1\" class=\"dataframe\">\n",
       "  <thead>\n",
       "    <tr style=\"text-align: right;\">\n",
       "      <th></th>\n",
       "      <th>label</th>\n",
       "      <th>message</th>\n",
       "    </tr>\n",
       "  </thead>\n",
       "  <tbody>\n",
       "    <tr>\n",
       "      <th>0</th>\n",
       "      <td>ham</td>\n",
       "      <td>Go until jurong point, crazy.. Available only ...</td>\n",
       "    </tr>\n",
       "    <tr>\n",
       "      <th>1</th>\n",
       "      <td>ham</td>\n",
       "      <td>Ok lar... Joking wif u oni...</td>\n",
       "    </tr>\n",
       "    <tr>\n",
       "      <th>2</th>\n",
       "      <td>spam</td>\n",
       "      <td>Free entry in 2 a wkly comp to win FA Cup fina...</td>\n",
       "    </tr>\n",
       "    <tr>\n",
       "      <th>3</th>\n",
       "      <td>ham</td>\n",
       "      <td>U dun say so early hor... U c already then say...</td>\n",
       "    </tr>\n",
       "    <tr>\n",
       "      <th>4</th>\n",
       "      <td>ham</td>\n",
       "      <td>Nah I don't think he goes to usf, he lives aro...</td>\n",
       "    </tr>\n",
       "    <tr>\n",
       "      <th>...</th>\n",
       "      <td>...</td>\n",
       "      <td>...</td>\n",
       "    </tr>\n",
       "    <tr>\n",
       "      <th>5567</th>\n",
       "      <td>spam</td>\n",
       "      <td>This is the 2nd time we have tried 2 contact u...</td>\n",
       "    </tr>\n",
       "    <tr>\n",
       "      <th>5568</th>\n",
       "      <td>ham</td>\n",
       "      <td>Will Ì_ b going to esplanade fr home?</td>\n",
       "    </tr>\n",
       "    <tr>\n",
       "      <th>5569</th>\n",
       "      <td>ham</td>\n",
       "      <td>Pity, * was in mood for that. So...any other s...</td>\n",
       "    </tr>\n",
       "    <tr>\n",
       "      <th>5570</th>\n",
       "      <td>ham</td>\n",
       "      <td>The guy did some bitching but I acted like i'd...</td>\n",
       "    </tr>\n",
       "    <tr>\n",
       "      <th>5571</th>\n",
       "      <td>ham</td>\n",
       "      <td>Rofl. Its true to its name</td>\n",
       "    </tr>\n",
       "  </tbody>\n",
       "</table>\n",
       "<p>5572 rows × 2 columns</p>\n",
       "</div>"
      ],
      "text/plain": [
       "     label                                            message\n",
       "0      ham  Go until jurong point, crazy.. Available only ...\n",
       "1      ham                      Ok lar... Joking wif u oni...\n",
       "2     spam  Free entry in 2 a wkly comp to win FA Cup fina...\n",
       "3      ham  U dun say so early hor... U c already then say...\n",
       "4      ham  Nah I don't think he goes to usf, he lives aro...\n",
       "...    ...                                                ...\n",
       "5567  spam  This is the 2nd time we have tried 2 contact u...\n",
       "5568   ham              Will Ì_ b going to esplanade fr home?\n",
       "5569   ham  Pity, * was in mood for that. So...any other s...\n",
       "5570   ham  The guy did some bitching but I acted like i'd...\n",
       "5571   ham                         Rofl. Its true to its name\n",
       "\n",
       "[5572 rows x 2 columns]"
      ]
     },
     "execution_count": 5,
     "metadata": {},
     "output_type": "execute_result"
    }
   ],
   "source": [
    "dataset = pd.read_csv(\"spam.csv\", encoding='latin-1')\n",
    "dataset.dropna(how=\"any\", inplace=True, axis=1)\n",
    "dataset.columns = ['label', 'message']\n",
    "dataset"
   ]
  },
  {
   "cell_type": "markdown",
   "metadata": {},
   "source": [
    "# Cleaning or pre-processing"
   ]
  },
  {
   "cell_type": "code",
   "execution_count": 6,
   "metadata": {},
   "outputs": [
    {
     "name": "stderr",
     "output_type": "stream",
     "text": [
      "[nltk_data] Downloading package stopwords to\n",
      "[nltk_data]     /Users/pavangodthi/nltk_data...\n",
      "[nltk_data]   Package stopwords is already up-to-date!\n"
     ]
    }
   ],
   "source": [
    "#Library to clean the text\n",
    "import re\n",
    "\n",
    "#Natural language toolkit library\n",
    "import nltk\n",
    "\n",
    "#library used to remove stopwords\n",
    "nltk.download('stopwords')\n",
    "from nltk.corpus import stopwords\n",
    "\n",
    "#Library used for stemming\n",
    "from nltk.stem.porter import PorterStemmer\n",
    "ps = PorterStemmer()  #creating an object for stemming\n",
    "data=[]"
   ]
  },
  {
   "cell_type": "code",
   "execution_count": 7,
   "metadata": {},
   "outputs": [],
   "source": [
    "#Applying for all rows\n",
    "for i in range(0,5572):\n",
    "        message=dataset[\"message\"][i]\n",
    "        \n",
    "        #replacing punctuations and numbers\n",
    "        message = re.sub('[^a-zA-Z]', ' ',message)\n",
    "       \n",
    "        #convert each word into lower case\n",
    "        message = message.lower()  \n",
    "        \n",
    "        message = message.split()\n",
    "        \n",
    "        #apply stemming\n",
    "        message = [ps.stem(word) for word in message if not word in set(stopwords.words('english'))]\n",
    "        \n",
    "        message = ' '.join(message)\n",
    "        data.append(message)"
   ]
  },
  {
   "cell_type": "code",
   "execution_count": 8,
   "metadata": {},
   "outputs": [],
   "source": [
    "dataset['label'].replace(['ham','spam'],[0,1],inplace=True)"
   ]
  },
  {
   "cell_type": "code",
   "execution_count": 9,
   "metadata": {},
   "outputs": [
    {
     "data": {
      "text/plain": [
       "array([0, 0, 1, ..., 0, 0, 0])"
      ]
     },
     "execution_count": 9,
     "metadata": {},
     "output_type": "execute_result"
    }
   ],
   "source": [
    "        \n",
    "from sklearn.feature_extraction.text import CountVectorizer #for bag of words\n",
    "cv = CountVectorizer(max_features=100) \n",
    "X = cv.fit_transform(data).toarray() #convert into matrix form\n",
    "y=dataset.iloc[:,0].values \n",
    "y"
   ]
  },
  {
   "cell_type": "markdown",
   "metadata": {},
   "source": [
    "# Splitting the dataset into train and test"
   ]
  },
  {
   "cell_type": "code",
   "execution_count": 10,
   "metadata": {},
   "outputs": [],
   "source": [
    "from sklearn.model_selection import train_test_split\n",
    "X_train, X_test, y_train, y_test = train_test_split(X, y, test_size = 0.20, random_state = 0)"
   ]
  },
  {
   "cell_type": "code",
   "execution_count": 11,
   "metadata": {},
   "outputs": [
    {
     "data": {
      "text/plain": [
       "array([[0, 0, 0, ..., 0, 0, 0],\n",
       "       [0, 0, 0, ..., 0, 0, 0],\n",
       "       [0, 0, 0, ..., 0, 0, 0],\n",
       "       ...,\n",
       "       [0, 0, 0, ..., 0, 0, 0],\n",
       "       [0, 0, 0, ..., 0, 1, 0],\n",
       "       [0, 0, 0, ..., 0, 0, 0]])"
      ]
     },
     "execution_count": 11,
     "metadata": {},
     "output_type": "execute_result"
    }
   ],
   "source": [
    "X_train"
   ]
  },
  {
   "cell_type": "code",
   "execution_count": 12,
   "metadata": {},
   "outputs": [
    {
     "data": {
      "text/plain": [
       "array([[0, 0, 0, ..., 0, 0, 0],\n",
       "       [0, 0, 0, ..., 0, 0, 0],\n",
       "       [0, 0, 0, ..., 0, 0, 0],\n",
       "       ...,\n",
       "       [0, 0, 0, ..., 0, 0, 0],\n",
       "       [0, 0, 0, ..., 0, 0, 0],\n",
       "       [0, 0, 0, ..., 0, 0, 0]])"
      ]
     },
     "execution_count": 12,
     "metadata": {},
     "output_type": "execute_result"
    }
   ],
   "source": [
    "X_test"
   ]
  },
  {
   "cell_type": "code",
   "execution_count": 13,
   "metadata": {},
   "outputs": [
    {
     "data": {
      "text/plain": [
       "array([0, 0, 0, ..., 0, 0, 0])"
      ]
     },
     "execution_count": 13,
     "metadata": {},
     "output_type": "execute_result"
    }
   ],
   "source": [
    "y_train"
   ]
  },
  {
   "cell_type": "code",
   "execution_count": 14,
   "metadata": {},
   "outputs": [
    {
     "data": {
      "text/plain": [
       "array([0, 0, 0, ..., 0, 0, 0])"
      ]
     },
     "execution_count": 14,
     "metadata": {},
     "output_type": "execute_result"
    }
   ],
   "source": [
    "y_test"
   ]
  },
  {
   "cell_type": "code",
   "execution_count": 15,
   "metadata": {},
   "outputs": [],
   "source": [
    "import pickle\n",
    "pickle.dump(cv, open(\"cv.pkl\", \"wb\"))"
   ]
  },
  {
   "cell_type": "markdown",
   "metadata": {},
   "source": [
    "# Importing the libraries which uses tensorflow as backend"
   ]
  },
  {
   "cell_type": "code",
   "execution_count": 16,
   "metadata": {},
   "outputs": [
    {
     "name": "stderr",
     "output_type": "stream",
     "text": [
      "Using TensorFlow backend.\n"
     ]
    }
   ],
   "source": [
    "from keras.models import Sequential\n",
    "from keras.layers import Dense"
   ]
  },
  {
   "cell_type": "code",
   "execution_count": 17,
   "metadata": {},
   "outputs": [
    {
     "name": "stderr",
     "output_type": "stream",
     "text": [
      "/Users/pavangodthi/opt/anaconda3/lib/python3.7/site-packages/ipykernel_launcher.py:6: UserWarning: Update your `Dense` call to the Keras 2 API: `Dense(activation=\"relu\", input_dim=100, units=8, kernel_initializer=\"uniform\")`\n",
      "  \n",
      "/Users/pavangodthi/opt/anaconda3/lib/python3.7/site-packages/ipykernel_launcher.py:9: UserWarning: Update your `Dense` call to the Keras 2 API: `Dense(activation=\"relu\", units=8, kernel_initializer=\"uniform\")`\n",
      "  if __name__ == '__main__':\n",
      "/Users/pavangodthi/opt/anaconda3/lib/python3.7/site-packages/ipykernel_launcher.py:10: UserWarning: Update your `Dense` call to the Keras 2 API: `Dense(activation=\"relu\", units=8, kernel_initializer=\"uniform\")`\n",
      "  # Remove the CWD from sys.path while we load stuff.\n",
      "/Users/pavangodthi/opt/anaconda3/lib/python3.7/site-packages/ipykernel_launcher.py:11: UserWarning: Update your `Dense` call to the Keras 2 API: `Dense(activation=\"relu\", units=8, kernel_initializer=\"uniform\")`\n",
      "  # This is added back by InteractiveShellApp.init_path()\n",
      "/Users/pavangodthi/opt/anaconda3/lib/python3.7/site-packages/ipykernel_launcher.py:12: UserWarning: Update your `Dense` call to the Keras 2 API: `Dense(activation=\"relu\", units=8, kernel_initializer=\"uniform\")`\n",
      "  if sys.path[0] == '':\n",
      "/Users/pavangodthi/opt/anaconda3/lib/python3.7/site-packages/ipykernel_launcher.py:13: UserWarning: Update your `Dense` call to the Keras 2 API: `Dense(activation=\"relu\", units=8, kernel_initializer=\"uniform\")`\n",
      "  del sys.path[0]\n",
      "/Users/pavangodthi/opt/anaconda3/lib/python3.7/site-packages/ipykernel_launcher.py:14: UserWarning: Update your `Dense` call to the Keras 2 API: `Dense(activation=\"relu\", units=8, kernel_initializer=\"uniform\")`\n",
      "  \n",
      "/Users/pavangodthi/opt/anaconda3/lib/python3.7/site-packages/ipykernel_launcher.py:15: UserWarning: Update your `Dense` call to the Keras 2 API: `Dense(activation=\"relu\", units=8, kernel_initializer=\"uniform\")`\n",
      "  from ipykernel import kernelapp as app\n",
      "/Users/pavangodthi/opt/anaconda3/lib/python3.7/site-packages/ipykernel_launcher.py:16: UserWarning: Update your `Dense` call to the Keras 2 API: `Dense(activation=\"relu\", units=8, kernel_initializer=\"uniform\")`\n",
      "  app.launch_new_instance()\n",
      "/Users/pavangodthi/opt/anaconda3/lib/python3.7/site-packages/ipykernel_launcher.py:20: UserWarning: Update your `Dense` call to the Keras 2 API: `Dense(activation=\"sigmoid\", units=1, kernel_initializer=\"uniform\")`\n"
     ]
    }
   ],
   "source": [
    "#Initializing the model\n",
    "model = Sequential()\n",
    "\n",
    "\n",
    "#adding input layer\n",
    "model.add(Dense(output_dim = 8, init = 'uniform', activation = 'relu', input_dim = 100))\n",
    "\n",
    "#adding hidden layers\n",
    "model.add(Dense(output_dim = 8, init = 'uniform', activation = 'relu'))\n",
    "model.add(Dense(output_dim = 8, init = 'uniform', activation = 'relu'))\n",
    "model.add(Dense(output_dim = 8, init = 'uniform', activation = 'relu'))\n",
    "model.add(Dense(output_dim = 8, init = 'uniform', activation = 'relu'))\n",
    "model.add(Dense(output_dim = 8, init = 'uniform', activation = 'relu'))\n",
    "model.add(Dense(output_dim = 8, init = 'uniform', activation = 'relu'))\n",
    "model.add(Dense(output_dim = 8, init = 'uniform', activation = 'relu'))\n",
    "model.add(Dense(output_dim = 8, init = 'uniform', activation = 'relu'))\n",
    "\n",
    "\n",
    "#Adding output layer\n",
    "model.add(Dense(output_dim = 1, init = 'uniform', activation = 'sigmoid'))\n"
   ]
  },
  {
   "cell_type": "code",
   "execution_count": 18,
   "metadata": {},
   "outputs": [],
   "source": [
    "#compiling the model\n",
    "model.compile(optimizer = 'adam', loss = 'binary_crossentropy', metrics = ['accuracy'])"
   ]
  },
  {
   "cell_type": "code",
   "execution_count": 21,
   "metadata": {},
   "outputs": [
    {
     "name": "stdout",
     "output_type": "stream",
     "text": [
      "Epoch 1/200\n",
      "4457/4457 [==============================] - 0s 9us/step - loss: 0.2597 - accuracy: 0.8696\n",
      "Epoch 2/200\n",
      "4457/4457 [==============================] - 0s 7us/step - loss: 0.2555 - accuracy: 0.8696\n",
      "Epoch 3/200\n",
      "4457/4457 [==============================] - 0s 7us/step - loss: 0.2515 - accuracy: 0.8696\n",
      "Epoch 4/200\n",
      "4457/4457 [==============================] - 0s 7us/step - loss: 0.2476 - accuracy: 0.8696\n",
      "Epoch 5/200\n",
      "4457/4457 [==============================] - 0s 7us/step - loss: 0.2439 - accuracy: 0.8696\n",
      "Epoch 6/200\n",
      "4457/4457 [==============================] - 0s 7us/step - loss: 0.2404 - accuracy: 0.8696\n",
      "Epoch 7/200\n",
      "4457/4457 [==============================] - 0s 7us/step - loss: 0.2369 - accuracy: 0.8696\n",
      "Epoch 8/200\n",
      "4457/4457 [==============================] - 0s 7us/step - loss: 0.2336 - accuracy: 0.8696\n",
      "Epoch 9/200\n",
      "4457/4457 [==============================] - 0s 7us/step - loss: 0.2304 - accuracy: 0.8696\n",
      "Epoch 10/200\n",
      "4457/4457 [==============================] - 0s 8us/step - loss: 0.2272 - accuracy: 0.8696\n",
      "Epoch 11/200\n",
      "4457/4457 [==============================] - 0s 7us/step - loss: 0.2242 - accuracy: 0.8696\n",
      "Epoch 12/200\n",
      "4457/4457 [==============================] - 0s 7us/step - loss: 0.2213 - accuracy: 0.8696\n",
      "Epoch 13/200\n",
      "4457/4457 [==============================] - 0s 7us/step - loss: 0.2185 - accuracy: 0.8696\n",
      "Epoch 14/200\n",
      "4457/4457 [==============================] - 0s 7us/step - loss: 0.2159 - accuracy: 0.8696\n",
      "Epoch 15/200\n",
      "4457/4457 [==============================] - 0s 7us/step - loss: 0.2135 - accuracy: 0.8696\n",
      "Epoch 16/200\n",
      "4457/4457 [==============================] - 0s 10us/step - loss: 0.2113 - accuracy: 0.8696\n",
      "Epoch 17/200\n",
      "4457/4457 [==============================] - 0s 10us/step - loss: 0.2092 - accuracy: 0.8696\n",
      "Epoch 18/200\n",
      "4457/4457 [==============================] - 0s 8us/step - loss: 0.2074 - accuracy: 0.8696\n",
      "Epoch 19/200\n",
      "4457/4457 [==============================] - 0s 7us/step - loss: 0.2057 - accuracy: 0.8696\n",
      "Epoch 20/200\n",
      "4457/4457 [==============================] - 0s 8us/step - loss: 0.2041 - accuracy: 0.8696\n",
      "Epoch 21/200\n",
      "4457/4457 [==============================] - 0s 8us/step - loss: 0.2026 - accuracy: 0.8696\n",
      "Epoch 22/200\n",
      "4457/4457 [==============================] - 0s 8us/step - loss: 0.2013 - accuracy: 0.8696\n",
      "Epoch 23/200\n",
      "4457/4457 [==============================] - 0s 8us/step - loss: 0.2000 - accuracy: 0.8696\n",
      "Epoch 24/200\n",
      "4457/4457 [==============================] - 0s 8us/step - loss: 0.1988 - accuracy: 0.8696\n",
      "Epoch 25/200\n",
      "4457/4457 [==============================] - 0s 9us/step - loss: 0.1976 - accuracy: 0.8696\n",
      "Epoch 26/200\n",
      "4457/4457 [==============================] - 0s 9us/step - loss: 0.1964 - accuracy: 0.8696\n",
      "Epoch 27/200\n",
      "4457/4457 [==============================] - 0s 9us/step - loss: 0.1952 - accuracy: 0.8696\n",
      "Epoch 28/200\n",
      "4457/4457 [==============================] - 0s 10us/step - loss: 0.1939 - accuracy: 0.8696\n",
      "Epoch 29/200\n",
      "4457/4457 [==============================] - 0s 10us/step - loss: 0.1927 - accuracy: 0.8696\n",
      "Epoch 30/200\n",
      "4457/4457 [==============================] - 0s 8us/step - loss: 0.1916 - accuracy: 0.8696\n",
      "Epoch 31/200\n",
      "4457/4457 [==============================] - 0s 8us/step - loss: 0.1906 - accuracy: 0.8696\n",
      "Epoch 32/200\n",
      "4457/4457 [==============================] - 0s 8us/step - loss: 0.1896 - accuracy: 0.8696\n",
      "Epoch 33/200\n",
      "4457/4457 [==============================] - 0s 7us/step - loss: 0.1886 - accuracy: 0.8696\n",
      "Epoch 34/200\n",
      "4457/4457 [==============================] - 0s 8us/step - loss: 0.1876 - accuracy: 0.8696\n",
      "Epoch 35/200\n",
      "4457/4457 [==============================] - 0s 8us/step - loss: 0.1867 - accuracy: 0.8696\n",
      "Epoch 36/200\n",
      "4457/4457 [==============================] - 0s 8us/step - loss: 0.1858 - accuracy: 0.8696\n",
      "Epoch 37/200\n",
      "4457/4457 [==============================] - 0s 9us/step - loss: 0.1849 - accuracy: 0.8696\n",
      "Epoch 38/200\n",
      "4457/4457 [==============================] - 0s 8us/step - loss: 0.1841 - accuracy: 0.8696\n",
      "Epoch 39/200\n",
      "4457/4457 [==============================] - 0s 7us/step - loss: 0.1833 - accuracy: 0.8696\n",
      "Epoch 40/200\n",
      "4457/4457 [==============================] - 0s 8us/step - loss: 0.1825 - accuracy: 0.8696\n",
      "Epoch 41/200\n",
      "4457/4457 [==============================] - 0s 8us/step - loss: 0.1817 - accuracy: 0.8696\n",
      "Epoch 42/200\n",
      "4457/4457 [==============================] - 0s 8us/step - loss: 0.1809 - accuracy: 0.8696\n",
      "Epoch 43/200\n",
      "4457/4457 [==============================] - 0s 8us/step - loss: 0.1802 - accuracy: 0.8696\n",
      "Epoch 44/200\n",
      "4457/4457 [==============================] - 0s 8us/step - loss: 0.1795 - accuracy: 0.8696\n",
      "Epoch 45/200\n",
      "4457/4457 [==============================] - 0s 8us/step - loss: 0.1788 - accuracy: 0.8696\n",
      "Epoch 46/200\n",
      "4457/4457 [==============================] - 0s 8us/step - loss: 0.1782 - accuracy: 0.8696\n",
      "Epoch 47/200\n",
      "4457/4457 [==============================] - 0s 8us/step - loss: 0.1777 - accuracy: 0.8696\n",
      "Epoch 48/200\n",
      "4457/4457 [==============================] - 0s 8us/step - loss: 0.1772 - accuracy: 0.8696\n",
      "Epoch 49/200\n",
      "4457/4457 [==============================] - 0s 9us/step - loss: 0.1767 - accuracy: 0.8696\n",
      "Epoch 50/200\n",
      "4457/4457 [==============================] - 0s 11us/step - loss: 0.1762 - accuracy: 0.8696\n",
      "Epoch 51/200\n",
      "4457/4457 [==============================] - 0s 10us/step - loss: 0.1758 - accuracy: 0.8696\n",
      "Epoch 52/200\n",
      "4457/4457 [==============================] - 0s 9us/step - loss: 0.1752 - accuracy: 0.8696\n",
      "Epoch 53/200\n",
      "4457/4457 [==============================] - 0s 10us/step - loss: 0.1746 - accuracy: 0.8696\n",
      "Epoch 54/200\n",
      "4457/4457 [==============================] - 0s 8us/step - loss: 0.1741 - accuracy: 0.8696\n",
      "Epoch 55/200\n",
      "4457/4457 [==============================] - 0s 7us/step - loss: 0.1735 - accuracy: 0.8696\n",
      "Epoch 56/200\n",
      "4457/4457 [==============================] - 0s 7us/step - loss: 0.1730 - accuracy: 0.8696\n",
      "Epoch 57/200\n",
      "4457/4457 [==============================] - 0s 8us/step - loss: 0.1725 - accuracy: 0.8696\n",
      "Epoch 58/200\n",
      "4457/4457 [==============================] - 0s 8us/step - loss: 0.1721 - accuracy: 0.8696\n",
      "Epoch 59/200\n",
      "4457/4457 [==============================] - 0s 9us/step - loss: 0.1717 - accuracy: 0.8696\n",
      "Epoch 60/200\n",
      "4457/4457 [==============================] - 0s 13us/step - loss: 0.1713 - accuracy: 0.8696\n",
      "Epoch 61/200\n",
      "4457/4457 [==============================] - 0s 9us/step - loss: 0.1709 - accuracy: 0.8696\n",
      "Epoch 62/200\n",
      "4457/4457 [==============================] - 0s 9us/step - loss: 0.1705 - accuracy: 0.8696\n",
      "Epoch 63/200\n",
      "4457/4457 [==============================] - 0s 8us/step - loss: 0.1700 - accuracy: 0.8696\n",
      "Epoch 64/200\n",
      "4457/4457 [==============================] - 0s 9us/step - loss: 0.1695 - accuracy: 0.8696\n",
      "Epoch 65/200\n",
      "4457/4457 [==============================] - 0s 8us/step - loss: 0.1690 - accuracy: 0.8696\n",
      "Epoch 66/200\n",
      "4457/4457 [==============================] - 0s 7us/step - loss: 0.1686 - accuracy: 0.8696\n",
      "Epoch 67/200\n",
      "4457/4457 [==============================] - 0s 8us/step - loss: 0.1682 - accuracy: 0.8696\n",
      "Epoch 68/200\n",
      "4457/4457 [==============================] - 0s 8us/step - loss: 0.1678 - accuracy: 0.8696\n",
      "Epoch 69/200\n",
      "4457/4457 [==============================] - 0s 8us/step - loss: 0.1673 - accuracy: 0.8696\n",
      "Epoch 70/200\n",
      "4457/4457 [==============================] - 0s 8us/step - loss: 0.1669 - accuracy: 0.8696\n",
      "Epoch 71/200\n",
      "4457/4457 [==============================] - 0s 8us/step - loss: 0.1665 - accuracy: 0.8696\n",
      "Epoch 72/200\n",
      "4457/4457 [==============================] - 0s 8us/step - loss: 0.1661 - accuracy: 0.8696\n",
      "Epoch 73/200\n",
      "4457/4457 [==============================] - 0s 9us/step - loss: 0.1658 - accuracy: 0.8696\n",
      "Epoch 74/200\n",
      "4457/4457 [==============================] - 0s 8us/step - loss: 0.1655 - accuracy: 0.8696\n",
      "Epoch 75/200\n",
      "4457/4457 [==============================] - 0s 8us/step - loss: 0.1651 - accuracy: 0.8696\n",
      "Epoch 76/200\n",
      "4457/4457 [==============================] - 0s 9us/step - loss: 0.1647 - accuracy: 0.8696\n",
      "Epoch 77/200\n",
      "4457/4457 [==============================] - 0s 9us/step - loss: 0.1644 - accuracy: 0.8696\n",
      "Epoch 78/200\n",
      "4457/4457 [==============================] - 0s 9us/step - loss: 0.1640 - accuracy: 0.8696\n",
      "Epoch 79/200\n"
     ]
    },
    {
     "name": "stdout",
     "output_type": "stream",
     "text": [
      "4457/4457 [==============================] - 0s 9us/step - loss: 0.1637 - accuracy: 0.8696\n",
      "Epoch 80/200\n",
      "4457/4457 [==============================] - 0s 9us/step - loss: 0.1634 - accuracy: 0.8696\n",
      "Epoch 81/200\n",
      "4457/4457 [==============================] - 0s 9us/step - loss: 0.1630 - accuracy: 0.8696\n",
      "Epoch 82/200\n",
      "4457/4457 [==============================] - 0s 8us/step - loss: 0.1627 - accuracy: 0.8696\n",
      "Epoch 83/200\n",
      "4457/4457 [==============================] - 0s 9us/step - loss: 0.1623 - accuracy: 0.8696\n",
      "Epoch 84/200\n",
      "4457/4457 [==============================] - 0s 9us/step - loss: 0.1620 - accuracy: 0.8696\n",
      "Epoch 85/200\n",
      "4457/4457 [==============================] - 0s 8us/step - loss: 0.1617 - accuracy: 0.8696\n",
      "Epoch 86/200\n",
      "4457/4457 [==============================] - 0s 8us/step - loss: 0.1614 - accuracy: 0.8696\n",
      "Epoch 87/200\n",
      "4457/4457 [==============================] - 0s 8us/step - loss: 0.1612 - accuracy: 0.8696\n",
      "Epoch 88/200\n",
      "4457/4457 [==============================] - 0s 8us/step - loss: 0.1610 - accuracy: 0.8696\n",
      "Epoch 89/200\n",
      "4457/4457 [==============================] - 0s 8us/step - loss: 0.1608 - accuracy: 0.8696\n",
      "Epoch 90/200\n",
      "4457/4457 [==============================] - 0s 8us/step - loss: 0.1605 - accuracy: 0.8696\n",
      "Epoch 91/200\n",
      "4457/4457 [==============================] - 0s 8us/step - loss: 0.1602 - accuracy: 0.8696\n",
      "Epoch 92/200\n",
      "4457/4457 [==============================] - 0s 8us/step - loss: 0.1599 - accuracy: 0.8696\n",
      "Epoch 93/200\n",
      "4457/4457 [==============================] - 0s 8us/step - loss: 0.1597 - accuracy: 0.8696\n",
      "Epoch 94/200\n",
      "4457/4457 [==============================] - 0s 8us/step - loss: 0.1595 - accuracy: 0.8696\n",
      "Epoch 95/200\n",
      "4457/4457 [==============================] - 0s 7us/step - loss: 0.1593 - accuracy: 0.8696\n",
      "Epoch 96/200\n",
      "4457/4457 [==============================] - 0s 7us/step - loss: 0.1592 - accuracy: 0.8696\n",
      "Epoch 97/200\n",
      "4457/4457 [==============================] - 0s 7us/step - loss: 0.1589 - accuracy: 0.8696\n",
      "Epoch 98/200\n",
      "4457/4457 [==============================] - 0s 8us/step - loss: 0.1587 - accuracy: 0.8696\n",
      "Epoch 99/200\n",
      "4457/4457 [==============================] - 0s 8us/step - loss: 0.1585 - accuracy: 0.8696\n",
      "Epoch 100/200\n",
      "4457/4457 [==============================] - 0s 8us/step - loss: 0.1582 - accuracy: 0.8696\n",
      "Epoch 101/200\n",
      "4457/4457 [==============================] - 0s 8us/step - loss: 0.1580 - accuracy: 0.8696\n",
      "Epoch 102/200\n",
      "4457/4457 [==============================] - 0s 8us/step - loss: 0.1577 - accuracy: 0.8696\n",
      "Epoch 103/200\n",
      "4457/4457 [==============================] - 0s 10us/step - loss: 0.1575 - accuracy: 0.8696\n",
      "Epoch 104/200\n",
      "4457/4457 [==============================] - 0s 10us/step - loss: 0.1574 - accuracy: 0.8696\n",
      "Epoch 105/200\n",
      "4457/4457 [==============================] - 0s 8us/step - loss: 0.1572 - accuracy: 0.8696\n",
      "Epoch 106/200\n",
      "4457/4457 [==============================] - 0s 7us/step - loss: 0.1570 - accuracy: 0.8696\n",
      "Epoch 107/200\n",
      "4457/4457 [==============================] - 0s 8us/step - loss: 0.1569 - accuracy: 0.8696\n",
      "Epoch 108/200\n",
      "4457/4457 [==============================] - 0s 7us/step - loss: 0.1567 - accuracy: 0.8696\n",
      "Epoch 109/200\n",
      "4457/4457 [==============================] - 0s 8us/step - loss: 0.1564 - accuracy: 0.8696\n",
      "Epoch 110/200\n",
      "4457/4457 [==============================] - 0s 8us/step - loss: 0.1561 - accuracy: 0.8696\n",
      "Epoch 111/200\n",
      "4457/4457 [==============================] - 0s 7us/step - loss: 0.1558 - accuracy: 0.8696\n",
      "Epoch 112/200\n",
      "4457/4457 [==============================] - 0s 7us/step - loss: 0.1555 - accuracy: 0.8696\n",
      "Epoch 113/200\n",
      "4457/4457 [==============================] - 0s 7us/step - loss: 0.1553 - accuracy: 0.8696\n",
      "Epoch 114/200\n",
      "4457/4457 [==============================] - 0s 8us/step - loss: 0.1550 - accuracy: 0.8696\n",
      "Epoch 115/200\n",
      "4457/4457 [==============================] - 0s 8us/step - loss: 0.1548 - accuracy: 0.8696\n",
      "Epoch 116/200\n",
      "4457/4457 [==============================] - 0s 8us/step - loss: 0.1546 - accuracy: 0.8696\n",
      "Epoch 117/200\n",
      "4457/4457 [==============================] - 0s 8us/step - loss: 0.1544 - accuracy: 0.8696\n",
      "Epoch 118/200\n",
      "4457/4457 [==============================] - 0s 8us/step - loss: 0.1541 - accuracy: 0.8696\n",
      "Epoch 119/200\n",
      "4457/4457 [==============================] - 0s 8us/step - loss: 0.1539 - accuracy: 0.8696\n",
      "Epoch 120/200\n",
      "4457/4457 [==============================] - 0s 8us/step - loss: 0.1537 - accuracy: 0.8696\n",
      "Epoch 121/200\n",
      "4457/4457 [==============================] - 0s 15us/step - loss: 0.1534 - accuracy: 0.8696\n",
      "Epoch 122/200\n",
      "4457/4457 [==============================] - 0s 11us/step - loss: 0.1531 - accuracy: 0.8696\n",
      "Epoch 123/200\n",
      "4457/4457 [==============================] - 0s 11us/step - loss: 0.1528 - accuracy: 0.8696\n",
      "Epoch 124/200\n",
      "4457/4457 [==============================] - 0s 11us/step - loss: 0.1525 - accuracy: 0.8696\n",
      "Epoch 125/200\n",
      "4457/4457 [==============================] - 0s 10us/step - loss: 0.1522 - accuracy: 0.8696\n",
      "Epoch 126/200\n",
      "4457/4457 [==============================] - 0s 9us/step - loss: 0.1518 - accuracy: 0.8696\n",
      "Epoch 127/200\n",
      "4457/4457 [==============================] - 0s 9us/step - loss: 0.1514 - accuracy: 0.8696\n",
      "Epoch 128/200\n",
      "4457/4457 [==============================] - 0s 9us/step - loss: 0.1511 - accuracy: 0.8696\n",
      "Epoch 129/200\n",
      "4457/4457 [==============================] - 0s 9us/step - loss: 0.1507 - accuracy: 0.8696\n",
      "Epoch 130/200\n",
      "4457/4457 [==============================] - 0s 10us/step - loss: 0.1504 - accuracy: 0.8696\n",
      "Epoch 131/200\n",
      "4457/4457 [==============================] - 0s 9us/step - loss: 0.1502 - accuracy: 0.8696\n",
      "Epoch 132/200\n",
      "4457/4457 [==============================] - 0s 10us/step - loss: 0.1499 - accuracy: 0.8696\n",
      "Epoch 133/200\n",
      "4457/4457 [==============================] - 0s 10us/step - loss: 0.1497 - accuracy: 0.8696\n",
      "Epoch 134/200\n",
      "4457/4457 [==============================] - 0s 10us/step - loss: 0.1495 - accuracy: 0.8696\n",
      "Epoch 135/200\n",
      "4457/4457 [==============================] - 0s 9us/step - loss: 0.1493 - accuracy: 0.8696\n",
      "Epoch 136/200\n",
      "4457/4457 [==============================] - 0s 9us/step - loss: 0.1492 - accuracy: 0.8696\n",
      "Epoch 137/200\n",
      "4457/4457 [==============================] - 0s 10us/step - loss: 0.1491 - accuracy: 0.8696\n",
      "Epoch 138/200\n",
      "4457/4457 [==============================] - 0s 10us/step - loss: 0.1490 - accuracy: 0.8696\n",
      "Epoch 139/200\n",
      "4457/4457 [==============================] - 0s 10us/step - loss: 0.1489 - accuracy: 0.8696\n",
      "Epoch 140/200\n",
      "4457/4457 [==============================] - 0s 9us/step - loss: 0.1488 - accuracy: 0.8696\n",
      "Epoch 141/200\n",
      "4457/4457 [==============================] - 0s 9us/step - loss: 0.1486 - accuracy: 0.8696\n",
      "Epoch 142/200\n",
      "4457/4457 [==============================] - 0s 10us/step - loss: 0.1486 - accuracy: 0.8696\n",
      "Epoch 143/200\n",
      "4457/4457 [==============================] - 0s 10us/step - loss: 0.1485 - accuracy: 0.8696\n",
      "Epoch 144/200\n",
      "4457/4457 [==============================] - 0s 10us/step - loss: 0.1484 - accuracy: 0.8696\n",
      "Epoch 145/200\n",
      "4457/4457 [==============================] - 0s 10us/step - loss: 0.1482 - accuracy: 0.8696\n",
      "Epoch 146/200\n",
      "4457/4457 [==============================] - 0s 10us/step - loss: 0.1481 - accuracy: 0.8696\n",
      "Epoch 147/200\n",
      "4457/4457 [==============================] - 0s 10us/step - loss: 0.1480 - accuracy: 0.8696\n",
      "Epoch 148/200\n",
      "4457/4457 [==============================] - 0s 10us/step - loss: 0.1480 - accuracy: 0.8696\n",
      "Epoch 149/200\n",
      "4457/4457 [==============================] - 0s 9us/step - loss: 0.1479 - accuracy: 0.8696\n",
      "Epoch 150/200\n",
      "4457/4457 [==============================] - 0s 9us/step - loss: 0.1477 - accuracy: 0.8696\n",
      "Epoch 151/200\n",
      "4457/4457 [==============================] - 0s 7us/step - loss: 0.1476 - accuracy: 0.8696\n",
      "Epoch 152/200\n",
      "4457/4457 [==============================] - 0s 7us/step - loss: 0.1476 - accuracy: 0.8696\n",
      "Epoch 153/200\n",
      "4457/4457 [==============================] - 0s 7us/step - loss: 0.1475 - accuracy: 0.8696\n",
      "Epoch 154/200\n",
      "4457/4457 [==============================] - 0s 8us/step - loss: 0.1474 - accuracy: 0.8696\n",
      "Epoch 155/200\n",
      "4457/4457 [==============================] - 0s 8us/step - loss: 0.1473 - accuracy: 0.8696\n",
      "Epoch 156/200\n",
      "4457/4457 [==============================] - 0s 8us/step - loss: 0.1473 - accuracy: 0.8696\n",
      "Epoch 157/200\n"
     ]
    },
    {
     "name": "stdout",
     "output_type": "stream",
     "text": [
      "4457/4457 [==============================] - 0s 8us/step - loss: 0.1472 - accuracy: 0.8696\n",
      "Epoch 158/200\n",
      "4457/4457 [==============================] - 0s 7us/step - loss: 0.1471 - accuracy: 0.8696\n",
      "Epoch 159/200\n",
      "4457/4457 [==============================] - 0s 7us/step - loss: 0.1469 - accuracy: 0.8696\n",
      "Epoch 160/200\n",
      "4457/4457 [==============================] - 0s 7us/step - loss: 0.1468 - accuracy: 0.8696\n",
      "Epoch 161/200\n",
      "4457/4457 [==============================] - 0s 7us/step - loss: 0.1466 - accuracy: 0.8696\n",
      "Epoch 162/200\n",
      "4457/4457 [==============================] - 0s 7us/step - loss: 0.1465 - accuracy: 0.8696\n",
      "Epoch 163/200\n",
      "4457/4457 [==============================] - 0s 7us/step - loss: 0.1464 - accuracy: 0.8696\n",
      "Epoch 164/200\n",
      "4457/4457 [==============================] - 0s 6us/step - loss: 0.1464 - accuracy: 0.8696\n",
      "Epoch 165/200\n",
      "4457/4457 [==============================] - 0s 7us/step - loss: 0.1463 - accuracy: 0.8696\n",
      "Epoch 166/200\n",
      "4457/4457 [==============================] - 0s 7us/step - loss: 0.1462 - accuracy: 0.8696\n",
      "Epoch 167/200\n",
      "4457/4457 [==============================] - 0s 7us/step - loss: 0.1460 - accuracy: 0.8696\n",
      "Epoch 168/200\n",
      "4457/4457 [==============================] - 0s 7us/step - loss: 0.1459 - accuracy: 0.8696\n",
      "Epoch 169/200\n",
      "4457/4457 [==============================] - 0s 7us/step - loss: 0.1458 - accuracy: 0.8696\n",
      "Epoch 170/200\n",
      "4457/4457 [==============================] - 0s 7us/step - loss: 0.1458 - accuracy: 0.8696\n",
      "Epoch 171/200\n",
      "4457/4457 [==============================] - 0s 7us/step - loss: 0.1457 - accuracy: 0.8696\n",
      "Epoch 172/200\n",
      "4457/4457 [==============================] - 0s 7us/step - loss: 0.1456 - accuracy: 0.8696\n",
      "Epoch 173/200\n",
      "4457/4457 [==============================] - 0s 7us/step - loss: 0.1456 - accuracy: 0.8696\n",
      "Epoch 174/200\n",
      "4457/4457 [==============================] - 0s 7us/step - loss: 0.1455 - accuracy: 0.8696\n",
      "Epoch 175/200\n",
      "4457/4457 [==============================] - 0s 7us/step - loss: 0.1454 - accuracy: 0.8696\n",
      "Epoch 176/200\n",
      "4457/4457 [==============================] - 0s 7us/step - loss: 0.1453 - accuracy: 0.8696\n",
      "Epoch 177/200\n",
      "4457/4457 [==============================] - 0s 8us/step - loss: 0.1452 - accuracy: 0.8696\n",
      "Epoch 178/200\n",
      "4457/4457 [==============================] - 0s 7us/step - loss: 0.1451 - accuracy: 0.8696\n",
      "Epoch 179/200\n",
      "4457/4457 [==============================] - 0s 9us/step - loss: 0.1450 - accuracy: 0.8696\n",
      "Epoch 180/200\n",
      "4457/4457 [==============================] - 0s 8us/step - loss: 0.1450 - accuracy: 0.8696\n",
      "Epoch 181/200\n",
      "4457/4457 [==============================] - 0s 9us/step - loss: 0.1448 - accuracy: 0.8696\n",
      "Epoch 182/200\n",
      "4457/4457 [==============================] - 0s 8us/step - loss: 0.1446 - accuracy: 0.8696\n",
      "Epoch 183/200\n",
      "4457/4457 [==============================] - 0s 8us/step - loss: 0.1445 - accuracy: 0.8696\n",
      "Epoch 184/200\n",
      "4457/4457 [==============================] - 0s 8us/step - loss: 0.1444 - accuracy: 0.8696\n",
      "Epoch 185/200\n",
      "4457/4457 [==============================] - 0s 7us/step - loss: 0.1443 - accuracy: 0.8696\n",
      "Epoch 186/200\n",
      "4457/4457 [==============================] - 0s 9us/step - loss: 0.1442 - accuracy: 0.8696\n",
      "Epoch 187/200\n",
      "4457/4457 [==============================] - 0s 8us/step - loss: 0.1440 - accuracy: 0.8696\n",
      "Epoch 188/200\n",
      "4457/4457 [==============================] - 0s 8us/step - loss: 0.1440 - accuracy: 0.8696\n",
      "Epoch 189/200\n",
      "4457/4457 [==============================] - 0s 8us/step - loss: 0.1439 - accuracy: 0.8696\n",
      "Epoch 190/200\n",
      "4457/4457 [==============================] - 0s 8us/step - loss: 0.1438 - accuracy: 0.8696\n",
      "Epoch 191/200\n",
      "4457/4457 [==============================] - 0s 8us/step - loss: 0.1437 - accuracy: 0.8696\n",
      "Epoch 192/200\n",
      "4457/4457 [==============================] - 0s 8us/step - loss: 0.1436 - accuracy: 0.8696\n",
      "Epoch 193/200\n",
      "4457/4457 [==============================] - 0s 8us/step - loss: 0.1435 - accuracy: 0.8696\n",
      "Epoch 194/200\n",
      "4457/4457 [==============================] - 0s 8us/step - loss: 0.1434 - accuracy: 0.8696\n",
      "Epoch 195/200\n",
      "4457/4457 [==============================] - 0s 8us/step - loss: 0.1433 - accuracy: 0.8696\n",
      "Epoch 196/200\n",
      "4457/4457 [==============================] - 0s 8us/step - loss: 0.1432 - accuracy: 0.8696\n",
      "Epoch 197/200\n",
      "4457/4457 [==============================] - 0s 8us/step - loss: 0.1432 - accuracy: 0.8696\n",
      "Epoch 198/200\n",
      "4457/4457 [==============================] - 0s 8us/step - loss: 0.1431 - accuracy: 0.8696\n",
      "Epoch 199/200\n",
      "4457/4457 [==============================] - 0s 8us/step - loss: 0.1430 - accuracy: 0.8696\n",
      "Epoch 200/200\n",
      "4457/4457 [==============================] - 0s 8us/step - loss: 0.1429 - accuracy: 0.8696\n"
     ]
    },
    {
     "data": {
      "text/plain": [
       "<keras.callbacks.callbacks.History at 0x1a4fdffa10>"
      ]
     },
     "execution_count": 21,
     "metadata": {},
     "output_type": "execute_result"
    }
   ],
   "source": [
    "#Training the model\n",
    "model.fit(X_train,y_train,batch_size=4048,epochs=200)"
   ]
  },
  {
   "cell_type": "markdown",
   "metadata": {},
   "source": [
    "# Save the model\n"
   ]
  },
  {
   "cell_type": "code",
   "execution_count": null,
   "metadata": {},
   "outputs": [],
   "source": [
    "model.save('mymodel.h5')"
   ]
  }
 ],
 "metadata": {
  "kernelspec": {
   "display_name": "Python 3",
   "language": "python",
   "name": "python3"
  },
  "language_info": {
   "codemirror_mode": {
    "name": "ipython",
    "version": 3
   },
   "file_extension": ".py",
   "mimetype": "text/x-python",
   "name": "python",
   "nbconvert_exporter": "python",
   "pygments_lexer": "ipython3",
   "version": "3.7.6"
  }
 },
 "nbformat": 4,
 "nbformat_minor": 2
}
